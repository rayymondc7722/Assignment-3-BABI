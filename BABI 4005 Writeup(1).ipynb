{
 "cells": [
  {
   "cell_type": "markdown",
   "id": "ddc10cfd-e481-4135-9f41-54c2c6c1b359",
   "metadata": {},
   "source": [
    "## Summary"
   ]
  },
  {
   "cell_type": "markdown",
   "id": "0e21dbc5-9579-40f1-a357-d16bd9596a99",
   "metadata": {},
   "source": [
    "This GitHub contains the statistics of individual NBA players throughout the 2023-2024 NBA regular season and playoffs. The dataset was retrieved from Kaggle. The original excel CSV files can be found in the Data folder in the repository. \n",
    "\n",
    "Inside of the dataset includes visualizations such as player comparisons and top 10 lists based on leaders in their respective stats. This helps the viewer understand what is being showcased in the data in a clear manner. "
   ]
  },
  {
   "cell_type": "code",
   "execution_count": null,
   "id": "c4af3d63-edc5-4270-8144-b9dd7bca1e05",
   "metadata": {},
   "outputs": [],
   "source": []
  }
 ],
 "metadata": {
  "kernelspec": {
   "display_name": "Python [conda env:base] *",
   "language": "python",
   "name": "conda-base-py"
  },
  "language_info": {
   "codemirror_mode": {
    "name": "ipython",
    "version": 3
   },
   "file_extension": ".py",
   "mimetype": "text/x-python",
   "name": "python",
   "nbconvert_exporter": "python",
   "pygments_lexer": "ipython3",
   "version": "3.12.7"
  }
 },
 "nbformat": 4,
 "nbformat_minor": 5
}
