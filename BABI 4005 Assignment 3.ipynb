{
 "cells": [
  {
   "cell_type": "code",
   "execution_count": 14,
   "id": "dbc5a255-3c40-4d03-812a-291a3c22d1c3",
   "metadata": {},
   "outputs": [],
   "source": [
    "import pandas as pd\n",
    "import matplotlib.pyplot as plt\n",
    "import re\n",
    "from datetime import datetime"
   ]
  },
  {
   "cell_type": "code",
   "execution_count": 20,
   "id": "71ae8eb9-2362-4aa2-a496-530e629b0f54",
   "metadata": {},
   "outputs": [],
   "source": [
    "nba = pd.read_csv(\"NBA Stats 202324 All Stats  NBA Player Props Tool (4).csv\")"
   ]
  },
  {
   "cell_type": "code",
   "execution_count": null,
   "id": "a1a1a4e5-e2ea-4c0c-88b4-2acbdd3aabe7",
   "metadata": {},
   "outputs": [],
   "source": []
  },
  {
   "cell_type": "code",
   "execution_count": null,
   "id": "52e078ee-6eaa-4173-80d7-5724ead33ccf",
   "metadata": {},
   "outputs": [],
   "source": []
  }
 ],
 "metadata": {
  "kernelspec": {
   "display_name": "Python [conda env:base] *",
   "language": "python",
   "name": "conda-base-py"
  },
  "language_info": {
   "codemirror_mode": {
    "name": "ipython",
    "version": 3
   },
   "file_extension": ".py",
   "mimetype": "text/x-python",
   "name": "python",
   "nbconvert_exporter": "python",
   "pygments_lexer": "ipython3",
   "version": "3.12.7"
  }
 },
 "nbformat": 4,
 "nbformat_minor": 5
}
